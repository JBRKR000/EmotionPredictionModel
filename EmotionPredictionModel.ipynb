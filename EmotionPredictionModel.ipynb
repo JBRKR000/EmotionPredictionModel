{
  "cells": [
    {
      "cell_type": "markdown",
      "metadata": {
        "id": "view-in-github",
        "colab_type": "text"
      },
      "source": [
        "<a href=\"https://colab.research.google.com/gist/JBRKR000/e9d2cff6ebb8ab5ca59cc5caeaa50ca3/emotions-prediction-model.ipynb\" target=\"_parent\"><img src=\"https://colab.research.google.com/assets/colab-badge.svg\" alt=\"Open In Colab\"/></a>"
      ]
    },
    {
      "cell_type": "markdown",
      "metadata": {
        "id": "i-rBEx5qBTZE"
      },
      "source": [
        "<div style=\"text-align: center; background-color: #f2f2f2; padding: 20px;\">\n",
        "  <h1 style=\"font-family: Arial, sans-serif; font-size: 36px; color: #333;\"><b>Data Science Project</b></h1>\n",
        "  <h2 style=\"font-family: Arial, sans-serif; font-size: 28px; color: #555;\"><b>Emotion Prediction from English Text</b></h2>\n",
        "  <h1 style=\"font-family: Arial, sans-serif; font-size: 32px; color: #333;\"><b>Politechnika Bydgoska im. Jana i Jędrzeja Śniadeckich 🏫</b></h1>\n",
        "  <h3 style=\"font-family: Arial, sans-serif; font-size: 20px; color: #777;\"><b>Year: 2023/2024</b></h3>\n",
        "  <hr style=\"border: 1px solid #ccc; margin: 20px 0;\">\n",
        "  <h2 style=\"font-family: Arial, sans-serif; font-size: 24px; color: #333;\"><b>Authors:</b></h2>\n",
        "  <p style=\"font-family: Arial, sans-serif; font-size: 20px; color: #555;\">Wiktor Lewandowski<br>Jakub Kozimor</p>\n",
        "</div>\n"
      ]
    },
    {
      "cell_type": "markdown",
      "metadata": {
        "id": "-S8Cj9llDBDP"
      },
      "source": [
        "\n",
        "\n",
        "---\n",
        "\n"
      ]
    },
    {
      "cell_type": "markdown",
      "metadata": {
        "id": "zEDZotZnEIkn"
      },
      "source": [
        "<div style=\"margin-top: 20px; margin-bottom: 20px;\">\n",
        "  <h2 style=\"font-family: Arial, sans-serif; font-size: 24px;\"><b>Project Roadmap 🗺️</b></h2>\n",
        "  <ol style=\"font-family: Arial, sans-serif; font-size: 16px; color: #666;\">\n",
        "    <li><strong>Goal:</strong> Analyse emotions in English text.</li>\n",
        "    <li><strong>Dataset:</strong> <a href=\"https://www.kaggle.com/datasets/nelgiriyewithana/emotions\" target=\"_blank\">Emotions Dataset</a></li>\n",
        "    <li><strong>Data Exploration:</strong> Load the dataset and visualize its features</li>\n",
        "    <li><strong>Preprocess the Data:</strong> Handle missing values, label recognition.</li>\n",
        "    <li><strong>Split the Data:</strong> Divide the dataset into training and testing sets.</li>\n",
        "    <li><strong>Train the Model:</strong> Fit the model to the training data and eventually tune hyperparameters.</li>\n",
        "    <li><strong>Evaluate the Model:</strong> Assess the model's performance using testing data and evaluation metrics.</li>\n",
        "    <li><strong>Results Documentation</strong></li>\n",
        "    <li><strong>Conclusion</strong></li>\n",
        "  </ol>\n",
        "</div>\n"
      ]
    },
    {
      "cell_type": "markdown",
      "metadata": {
        "id": "oT-1oTD9LV_e"
      },
      "source": [
        "\n",
        "\n",
        "---\n",
        "\n"
      ]
    },
    {
      "cell_type": "markdown",
      "metadata": {
        "id": "SGANt43ed-Xl"
      },
      "source": [
        "# **Data exploration 🕵️**"
      ]
    },
    {
      "cell_type": "markdown",
      "metadata": {
        "id": "V807KDsYLXWr"
      },
      "source": [
        "<h1><b>Import statements</b></h1>"
      ]
    },
    {
      "cell_type": "code",
      "execution_count": null,
      "metadata": {
        "id": "A76fRsJ3Bo6M"
      },
      "outputs": [],
      "source": [
        "import pandas as pd\n",
        "import matplotlib.pyplot as plt\n",
        "from sklearn.model_selection import train_test_split"
      ]
    },
    {
      "cell_type": "markdown",
      "metadata": {
        "id": "YSi1v8WKeEn2"
      },
      "source": [
        "## **General dataset overview**"
      ]
    },
    {
      "cell_type": "code",
      "execution_count": null,
      "metadata": {
        "id": "AAGpsubPDTDm"
      },
      "outputs": [],
      "source": [
        "df = pd.read_csv(\"emotions-dataset.csv\")"
      ]
    },
    {
      "cell_type": "code",
      "execution_count": null,
      "metadata": {
        "id": "3W1VKSa-SVH3",
        "colab": {
          "base_uri": "https://localhost:8080/"
        },
        "outputId": "4a5e7ead-e14f-4907-ffc1-0eed55c9d906"
      },
      "outputs": [
        {
          "output_type": "stream",
          "name": "stdout",
          "text": [
            "Rows: 416808 Columns: 3\n",
            "\n",
            "Column names: Index(['Unnamed: 0', 'text', 'label'], dtype='object')\n",
            "\n"
          ]
        }
      ],
      "source": [
        "print(f\"Rows: {df.shape[0]-1} Columns: {df.shape[1]}\\n\")\n",
        "print(f\"Column names: {df.columns}\\n\")"
      ]
    },
    {
      "cell_type": "markdown",
      "metadata": {
        "id": "Qjnxd-w7R_WE"
      },
      "source": [
        "## **Sample Data**"
      ]
    },
    {
      "cell_type": "code",
      "execution_count": null,
      "metadata": {
        "id": "G5BndmJWMNzs",
        "colab": {
          "base_uri": "https://localhost:8080/",
          "height": 206
        },
        "outputId": "3c3b1d6e-a51a-4c54-cd81-4494db5b1d2c"
      },
      "outputs": [
        {
          "output_type": "execute_result",
          "data": {
            "text/plain": [
              "   Unnamed: 0                                               text  label\n",
              "0           0      i just feel really helpless and heavy hearted      4\n",
              "1           1  ive enjoyed being able to slouch about relax a...      0\n",
              "2           2  i gave up my internship with the dmrg and am f...      4\n",
              "3           3                         i dont know i feel so lost      0\n",
              "4           4  i am a kindergarten teacher and i am thoroughl...      4"
            ],
            "text/html": [
              "\n",
              "  <div id=\"df-8f96468e-a3eb-410a-a759-d56082b27521\" class=\"colab-df-container\">\n",
              "    <div>\n",
              "<style scoped>\n",
              "    .dataframe tbody tr th:only-of-type {\n",
              "        vertical-align: middle;\n",
              "    }\n",
              "\n",
              "    .dataframe tbody tr th {\n",
              "        vertical-align: top;\n",
              "    }\n",
              "\n",
              "    .dataframe thead th {\n",
              "        text-align: right;\n",
              "    }\n",
              "</style>\n",
              "<table border=\"1\" class=\"dataframe\">\n",
              "  <thead>\n",
              "    <tr style=\"text-align: right;\">\n",
              "      <th></th>\n",
              "      <th>Unnamed: 0</th>\n",
              "      <th>text</th>\n",
              "      <th>label</th>\n",
              "    </tr>\n",
              "  </thead>\n",
              "  <tbody>\n",
              "    <tr>\n",
              "      <th>0</th>\n",
              "      <td>0</td>\n",
              "      <td>i just feel really helpless and heavy hearted</td>\n",
              "      <td>4</td>\n",
              "    </tr>\n",
              "    <tr>\n",
              "      <th>1</th>\n",
              "      <td>1</td>\n",
              "      <td>ive enjoyed being able to slouch about relax a...</td>\n",
              "      <td>0</td>\n",
              "    </tr>\n",
              "    <tr>\n",
              "      <th>2</th>\n",
              "      <td>2</td>\n",
              "      <td>i gave up my internship with the dmrg and am f...</td>\n",
              "      <td>4</td>\n",
              "    </tr>\n",
              "    <tr>\n",
              "      <th>3</th>\n",
              "      <td>3</td>\n",
              "      <td>i dont know i feel so lost</td>\n",
              "      <td>0</td>\n",
              "    </tr>\n",
              "    <tr>\n",
              "      <th>4</th>\n",
              "      <td>4</td>\n",
              "      <td>i am a kindergarten teacher and i am thoroughl...</td>\n",
              "      <td>4</td>\n",
              "    </tr>\n",
              "  </tbody>\n",
              "</table>\n",
              "</div>\n",
              "    <div class=\"colab-df-buttons\">\n",
              "\n",
              "  <div class=\"colab-df-container\">\n",
              "    <button class=\"colab-df-convert\" onclick=\"convertToInteractive('df-8f96468e-a3eb-410a-a759-d56082b27521')\"\n",
              "            title=\"Convert this dataframe to an interactive table.\"\n",
              "            style=\"display:none;\">\n",
              "\n",
              "  <svg xmlns=\"http://www.w3.org/2000/svg\" height=\"24px\" viewBox=\"0 -960 960 960\">\n",
              "    <path d=\"M120-120v-720h720v720H120Zm60-500h600v-160H180v160Zm220 220h160v-160H400v160Zm0 220h160v-160H400v160ZM180-400h160v-160H180v160Zm440 0h160v-160H620v160ZM180-180h160v-160H180v160Zm440 0h160v-160H620v160Z\"/>\n",
              "  </svg>\n",
              "    </button>\n",
              "\n",
              "  <style>\n",
              "    .colab-df-container {\n",
              "      display:flex;\n",
              "      gap: 12px;\n",
              "    }\n",
              "\n",
              "    .colab-df-convert {\n",
              "      background-color: #E8F0FE;\n",
              "      border: none;\n",
              "      border-radius: 50%;\n",
              "      cursor: pointer;\n",
              "      display: none;\n",
              "      fill: #1967D2;\n",
              "      height: 32px;\n",
              "      padding: 0 0 0 0;\n",
              "      width: 32px;\n",
              "    }\n",
              "\n",
              "    .colab-df-convert:hover {\n",
              "      background-color: #E2EBFA;\n",
              "      box-shadow: 0px 1px 2px rgba(60, 64, 67, 0.3), 0px 1px 3px 1px rgba(60, 64, 67, 0.15);\n",
              "      fill: #174EA6;\n",
              "    }\n",
              "\n",
              "    .colab-df-buttons div {\n",
              "      margin-bottom: 4px;\n",
              "    }\n",
              "\n",
              "    [theme=dark] .colab-df-convert {\n",
              "      background-color: #3B4455;\n",
              "      fill: #D2E3FC;\n",
              "    }\n",
              "\n",
              "    [theme=dark] .colab-df-convert:hover {\n",
              "      background-color: #434B5C;\n",
              "      box-shadow: 0px 1px 3px 1px rgba(0, 0, 0, 0.15);\n",
              "      filter: drop-shadow(0px 1px 2px rgba(0, 0, 0, 0.3));\n",
              "      fill: #FFFFFF;\n",
              "    }\n",
              "  </style>\n",
              "\n",
              "    <script>\n",
              "      const buttonEl =\n",
              "        document.querySelector('#df-8f96468e-a3eb-410a-a759-d56082b27521 button.colab-df-convert');\n",
              "      buttonEl.style.display =\n",
              "        google.colab.kernel.accessAllowed ? 'block' : 'none';\n",
              "\n",
              "      async function convertToInteractive(key) {\n",
              "        const element = document.querySelector('#df-8f96468e-a3eb-410a-a759-d56082b27521');\n",
              "        const dataTable =\n",
              "          await google.colab.kernel.invokeFunction('convertToInteractive',\n",
              "                                                    [key], {});\n",
              "        if (!dataTable) return;\n",
              "\n",
              "        const docLinkHtml = 'Like what you see? Visit the ' +\n",
              "          '<a target=\"_blank\" href=https://colab.research.google.com/notebooks/data_table.ipynb>data table notebook</a>'\n",
              "          + ' to learn more about interactive tables.';\n",
              "        element.innerHTML = '';\n",
              "        dataTable['output_type'] = 'display_data';\n",
              "        await google.colab.output.renderOutput(dataTable, element);\n",
              "        const docLink = document.createElement('div');\n",
              "        docLink.innerHTML = docLinkHtml;\n",
              "        element.appendChild(docLink);\n",
              "      }\n",
              "    </script>\n",
              "  </div>\n",
              "\n",
              "\n",
              "<div id=\"df-2447f7ca-103e-4c26-8a61-230c08ab9ffe\">\n",
              "  <button class=\"colab-df-quickchart\" onclick=\"quickchart('df-2447f7ca-103e-4c26-8a61-230c08ab9ffe')\"\n",
              "            title=\"Suggest charts\"\n",
              "            style=\"display:none;\">\n",
              "\n",
              "<svg xmlns=\"http://www.w3.org/2000/svg\" height=\"24px\"viewBox=\"0 0 24 24\"\n",
              "     width=\"24px\">\n",
              "    <g>\n",
              "        <path d=\"M19 3H5c-1.1 0-2 .9-2 2v14c0 1.1.9 2 2 2h14c1.1 0 2-.9 2-2V5c0-1.1-.9-2-2-2zM9 17H7v-7h2v7zm4 0h-2V7h2v10zm4 0h-2v-4h2v4z\"/>\n",
              "    </g>\n",
              "</svg>\n",
              "  </button>\n",
              "\n",
              "<style>\n",
              "  .colab-df-quickchart {\n",
              "      --bg-color: #E8F0FE;\n",
              "      --fill-color: #1967D2;\n",
              "      --hover-bg-color: #E2EBFA;\n",
              "      --hover-fill-color: #174EA6;\n",
              "      --disabled-fill-color: #AAA;\n",
              "      --disabled-bg-color: #DDD;\n",
              "  }\n",
              "\n",
              "  [theme=dark] .colab-df-quickchart {\n",
              "      --bg-color: #3B4455;\n",
              "      --fill-color: #D2E3FC;\n",
              "      --hover-bg-color: #434B5C;\n",
              "      --hover-fill-color: #FFFFFF;\n",
              "      --disabled-bg-color: #3B4455;\n",
              "      --disabled-fill-color: #666;\n",
              "  }\n",
              "\n",
              "  .colab-df-quickchart {\n",
              "    background-color: var(--bg-color);\n",
              "    border: none;\n",
              "    border-radius: 50%;\n",
              "    cursor: pointer;\n",
              "    display: none;\n",
              "    fill: var(--fill-color);\n",
              "    height: 32px;\n",
              "    padding: 0;\n",
              "    width: 32px;\n",
              "  }\n",
              "\n",
              "  .colab-df-quickchart:hover {\n",
              "    background-color: var(--hover-bg-color);\n",
              "    box-shadow: 0 1px 2px rgba(60, 64, 67, 0.3), 0 1px 3px 1px rgba(60, 64, 67, 0.15);\n",
              "    fill: var(--button-hover-fill-color);\n",
              "  }\n",
              "\n",
              "  .colab-df-quickchart-complete:disabled,\n",
              "  .colab-df-quickchart-complete:disabled:hover {\n",
              "    background-color: var(--disabled-bg-color);\n",
              "    fill: var(--disabled-fill-color);\n",
              "    box-shadow: none;\n",
              "  }\n",
              "\n",
              "  .colab-df-spinner {\n",
              "    border: 2px solid var(--fill-color);\n",
              "    border-color: transparent;\n",
              "    border-bottom-color: var(--fill-color);\n",
              "    animation:\n",
              "      spin 1s steps(1) infinite;\n",
              "  }\n",
              "\n",
              "  @keyframes spin {\n",
              "    0% {\n",
              "      border-color: transparent;\n",
              "      border-bottom-color: var(--fill-color);\n",
              "      border-left-color: var(--fill-color);\n",
              "    }\n",
              "    20% {\n",
              "      border-color: transparent;\n",
              "      border-left-color: var(--fill-color);\n",
              "      border-top-color: var(--fill-color);\n",
              "    }\n",
              "    30% {\n",
              "      border-color: transparent;\n",
              "      border-left-color: var(--fill-color);\n",
              "      border-top-color: var(--fill-color);\n",
              "      border-right-color: var(--fill-color);\n",
              "    }\n",
              "    40% {\n",
              "      border-color: transparent;\n",
              "      border-right-color: var(--fill-color);\n",
              "      border-top-color: var(--fill-color);\n",
              "    }\n",
              "    60% {\n",
              "      border-color: transparent;\n",
              "      border-right-color: var(--fill-color);\n",
              "    }\n",
              "    80% {\n",
              "      border-color: transparent;\n",
              "      border-right-color: var(--fill-color);\n",
              "      border-bottom-color: var(--fill-color);\n",
              "    }\n",
              "    90% {\n",
              "      border-color: transparent;\n",
              "      border-bottom-color: var(--fill-color);\n",
              "    }\n",
              "  }\n",
              "</style>\n",
              "\n",
              "  <script>\n",
              "    async function quickchart(key) {\n",
              "      const quickchartButtonEl =\n",
              "        document.querySelector('#' + key + ' button');\n",
              "      quickchartButtonEl.disabled = true;  // To prevent multiple clicks.\n",
              "      quickchartButtonEl.classList.add('colab-df-spinner');\n",
              "      try {\n",
              "        const charts = await google.colab.kernel.invokeFunction(\n",
              "            'suggestCharts', [key], {});\n",
              "      } catch (error) {\n",
              "        console.error('Error during call to suggestCharts:', error);\n",
              "      }\n",
              "      quickchartButtonEl.classList.remove('colab-df-spinner');\n",
              "      quickchartButtonEl.classList.add('colab-df-quickchart-complete');\n",
              "    }\n",
              "    (() => {\n",
              "      let quickchartButtonEl =\n",
              "        document.querySelector('#df-2447f7ca-103e-4c26-8a61-230c08ab9ffe button');\n",
              "      quickchartButtonEl.style.display =\n",
              "        google.colab.kernel.accessAllowed ? 'block' : 'none';\n",
              "    })();\n",
              "  </script>\n",
              "</div>\n",
              "    </div>\n",
              "  </div>\n"
            ],
            "application/vnd.google.colaboratory.intrinsic+json": {
              "type": "dataframe",
              "variable_name": "df"
            }
          },
          "metadata": {},
          "execution_count": 40
        }
      ],
      "source": [
        "df.head()"
      ]
    },
    {
      "cell_type": "markdown",
      "metadata": {
        "id": "yyq3QjDWQYN8"
      },
      "source": [
        "## **Plot label distribution**"
      ]
    },
    {
      "cell_type": "code",
      "execution_count": null,
      "metadata": {
        "id": "MYwhlRz0Nc2h",
        "colab": {
          "base_uri": "https://localhost:8080/",
          "height": 601
        },
        "outputId": "ae4666dd-767d-4d60-f810-0109783cc674"
      },
      "outputs": [
        {
          "output_type": "display_data",
          "data": {
            "text/plain": [
              "<Figure size 800x600 with 1 Axes>"
            ],
            "image/png": "[encoded data removed]"
          },
          "metadata": {}
        }
      ],
      "source": [
        "plt.figure(figsize=(8, 6))\n",
        "label_counts = df['label'].value_counts()\n",
        "label_names = ['Sadness', 'Joy', 'Love', 'Anger', 'Fear', 'Surprise']\n",
        "label_counts.index = label_names\n",
        "colors = plt.cm.viridis(range(len(label_counts)))\n",
        "label_counts.plot(kind='bar', color=colors, edgecolor='black')\n",
        "plt.title('Distribution of Emotions in Twitter Messages')\n",
        "plt.xlabel('Emotion')\n",
        "plt.ylabel('Count')\n",
        "plt.xticks(rotation=45)\n",
        "plt.show()"
      ]
    },
    {
      "cell_type": "markdown",
      "metadata": {
        "id": "aquk1PnoU7-K"
      },
      "source": [
        "# **Preprocessing the data 📖**"
      ]
    },
    {
      "cell_type": "markdown",
      "metadata": {
        "id": "apXpoARLVJq9"
      },
      "source": [
        "## **Check for Duplicates**"
      ]
    },
    {
      "cell_type": "code",
      "execution_count": null,
      "metadata": {
        "id": "pYugogWFUfAj",
        "colab": {
          "base_uri": "https://localhost:8080/"
        },
        "outputId": "cafd830c-8fc3-4ff7-de7d-119ae1609630"
      },
      "outputs": [
        {
          "output_type": "stream",
          "name": "stdout",
          "text": [
            "Are there any duplicates: False\n",
            "\n"
          ]
        }
      ],
      "source": [
        "print(f\"Are there any duplicates: {df.duplicated().values.any()}\\n\")"
      ]
    },
    {
      "cell_type": "markdown",
      "metadata": {
        "id": "XIHV9juXVQxa"
      },
      "source": [
        "## **Check for NaN Values**"
      ]
    },
    {
      "cell_type": "code",
      "execution_count": null,
      "metadata": {
        "id": "pq3mL8flVPay",
        "colab": {
          "base_uri": "https://localhost:8080/"
        },
        "outputId": "6fd90fcf-079a-4707-8eaa-3465704c86b8"
      },
      "outputs": [
        {
          "output_type": "stream",
          "name": "stdout",
          "text": [
            "Are there any NaN values: False\n",
            "Where are the NaN values:\n",
            "Unnamed: 0    0\n",
            "text          0\n",
            "label         0\n",
            "dtype: int64\n"
          ]
        }
      ],
      "source": [
        "print(f\"Are there any NaN values: {df.isna().values.any()}\")\n",
        "print(f\"Where are the NaN values:\\n{df.isna().sum()}\")"
      ]
    },
    {
      "cell_type": "markdown",
      "metadata": {
        "id": "k1PLG7QnWoUx"
      },
      "source": [
        "# **Split the data 🗃️**"
      ]
    },
    {
      "cell_type": "code",
      "execution_count": null,
      "metadata": {
        "id": "mRUK_vLPXka7",
        "colab": {
          "base_uri": "https://localhost:8080/"
        },
        "outputId": "168a3b8e-c462-4e82-dea7-61ab49d50109"
      },
      "outputs": [
        {
          "output_type": "stream",
          "name": "stdout",
          "text": [
            "Training set shape: (333447,) (333447,)\n",
            "Testing set shape: (83362,) (83362,)\n"
          ]
        }
      ],
      "source": [
        "# Split the data into features (X) and labels (y)\n",
        "X = df['text']  # Features: tweet text\n",
        "y = df['label']  # Labels: emotions\n",
        "\n",
        "# Split the data into training and testing sets (80% train, 20% test)\n",
        "X_train, X_test, y_train, y_test = train_test_split(X, y, test_size=0.2, random_state=42)\n",
        "\n",
        "# Print the shapes of the training and testing sets\n",
        "print(\"Training set shape:\", X_train.shape, y_train.shape)\n",
        "print(\"Testing set shape:\", X_test.shape, y_test.shape)"
      ]
    },
    {
      "cell_type": "code",
      "execution_count": null,
      "metadata": {
        "id": "DGUi2lMMYOxE",
        "colab": {
          "base_uri": "https://localhost:8080/"
        },
        "outputId": "a6bab740-97ea-4c9f-da5a-7d053c3cccf1"
      },
      "outputs": [
        {
          "output_type": "stream",
          "name": "stdout",
          "text": [
            "Training data is 80.0% of the total data.\n",
            "Test data makes up the remaining 20.0%.\n"
          ]
        }
      ],
      "source": [
        "# % of training set\n",
        "train_pct = 100 * len(X_train) / len(X)\n",
        "print(f'Training data is {train_pct:.3}% of the total data.')\n",
        "\n",
        "# % of test data set\n",
        "test_pct = 100 * len(X_test) / len(X)\n",
        "print(f'Test data makes up the remaining {test_pct:.3}%.')"
      ]
    },
    {
      "cell_type": "markdown",
      "metadata": {
        "id": "fMoteeZDJQ3T"
      },
      "source": [
        "# **Training and evaluating 🔧**\n"
      ]
    },
    {
      "cell_type": "markdown",
      "metadata": {
        "id": "urpjcIqreTMB"
      },
      "source": [
        "## **Model 1 - Support Vector Machine ⚙️**"
      ]
    },
    {
      "cell_type": "markdown",
      "metadata": {
        "id": "RBoJh5xLJomm"
      },
      "source": [
        "Before training machine learning models, it is necessary to convert text data into numeric vectors. In our case, we used the TF-IDF (Term Frequency-Inverse Document Frequency) technique.\n",
        "\n",
        "The next step is to choose an appropriate machine learning model for the text classification problem. First, we decided to use the Linear Support Vector Classifier (LinearSVC) method, which is a variant of Support Vector Machines (SVM)."
      ]
    },
    {
      "cell_type": "code",
      "execution_count": null,
      "metadata": {
        "id": "rAdgWzqkJVDq"
      },
      "outputs": [],
      "source": [
        "from sklearn.feature_extraction.text import TfidfVectorizer\n",
        "from sklearn.svm import LinearSVC\n",
        "from sklearn.metrics import classification_report"
      ]
    },
    {
      "cell_type": "code",
      "execution_count": null,
      "metadata": {
        "id": "FdIhfe_3SdvQ",
        "colab": {
          "base_uri": "https://localhost:8080/"
        },
        "outputId": "dc9476d6-c7bf-48a8-b17e-ab79212cf4be"
      },
      "outputs": [
        {
          "output_type": "stream",
          "name": "stdout",
          "text": [
            "Classification Report:\n",
            "              precision    recall  f1-score   support\n",
            "\n",
            "           0       0.90      0.90      0.90     24201\n",
            "           1       0.83      0.92      0.87     28164\n",
            "           2       0.80      0.73      0.76      6929\n",
            "           3       0.88      0.80      0.84     11441\n",
            "           4       0.84      0.77      0.81      9594\n",
            "           5       0.78      0.69      0.73      3033\n",
            "\n",
            "    accuracy                           0.86     83362\n",
            "   macro avg       0.84      0.80      0.82     83362\n",
            "weighted avg       0.86      0.86      0.85     83362\n",
            "\n"
          ]
        }
      ],
      "source": [
        "def linear_SVC_train():\n",
        "    # Split the data into training and testing sets\n",
        "    X_train, X_test, y_train, y_test = train_test_split(df['text'], df['label'], test_size=0.2, random_state=42)\n",
        "\n",
        "    # Vectorize the text data\n",
        "    vectorizer = TfidfVectorizer(max_features=1000)\n",
        "    X_train_vectorized = vectorizer.fit_transform(X_train)\n",
        "    X_test_vectorized = vectorizer.transform(X_test)\n",
        "\n",
        "    # Set the model parameters\n",
        "    model_params = {\n",
        "        'C': 1.0,\n",
        "        'loss': 'squared_hinge',\n",
        "        'max_iter': 1000,\n",
        "        'penalty': 'l2',\n",
        "        'dual': True,\n",
        "        'tol': 1e-4\n",
        "    }\n",
        "\n",
        "    # Initialize and train the model\n",
        "    model = LinearSVC(**model_params)\n",
        "    model.fit(X_train_vectorized, y_train)\n",
        "\n",
        "    return model, vectorizer, X_test_vectorized, y_test\n",
        "\n",
        "def evaluate_model(model, X_test, y_test):\n",
        "    # Predict emotions on the test set\n",
        "    y_pred = model.predict(X_test)\n",
        "    # Display the classification report\n",
        "    print(\"Classification Report:\")\n",
        "    print(classification_report(y_test, y_pred))\n",
        "\n",
        "# Call the function to train the model\n",
        "trained_model, trained_vectorizer, X_test, y_test = linear_SVC_train()\n",
        "\n",
        "# Call the function to evaluate the model\n",
        "evaluate_model(trained_model, X_test, y_test)"
      ]
    },
    {
      "cell_type": "markdown",
      "source": [
        "In our results, we focus on the F1-score as a key metric. F1-score is a combined measure of precision and recall, providing a balanced assessment of a model's performance, especially when classes are unevenly distributed. With our Model 1, we achieved an overall F1-score of 0.82."
      ],
      "metadata": {
        "id": "bY0pgms7ThnZ"
      }
    },
    {
      "cell_type": "code",
      "source": [
        "def linear_SVC_train():\n",
        "    # Split the data into training and testing sets\n",
        "    X_train, X_test, y_train, y_test = train_test_split(df['text'], df['label'], test_size=0.2, random_state=42)\n",
        "\n",
        "    # Vectorize the text data\n",
        "    vectorizer = TfidfVectorizer(max_features=5000)\n",
        "    X_train_vectorized = vectorizer.fit_transform(X_train)\n",
        "    X_test_vectorized = vectorizer.transform(X_test)\n",
        "\n",
        "    # Set the model parameters\n",
        "    model_params = {\n",
        "        'C': 0.1,\n",
        "        'loss': 'hinge',\n",
        "        'max_iter': 5000,\n",
        "        'penalty': 'l2',\n",
        "        'dual': True,\n",
        "        'tol': 1e-4\n",
        "    }\n",
        "\n",
        "    # Initialize and train the model\n",
        "    model = LinearSVC(**model_params)\n",
        "    model.fit(X_train_vectorized, y_train)\n",
        "\n",
        "    return model, vectorizer, X_test_vectorized, y_test\n",
        "\n",
        "def evaluate_model(model, X_test, y_test):\n",
        "    # Predict emotions on the test set\n",
        "    y_pred = model.predict(X_test)\n",
        "    # Display the classification report\n",
        "    print(\"Classification Report:\")\n",
        "    print(classification_report(y_test, y_pred))\n",
        "\n",
        "# Call the function to train the model\n",
        "trained_model, trained_vectorizer, X_test, y_test = linear_SVC_train()\n",
        "\n",
        "# Call the function to evaluate the model\n",
        "evaluate_model(trained_model, X_test, y_test)"
      ],
      "metadata": {
        "id": "CSotnUSBF76S",
        "colab": {
          "base_uri": "https://localhost:8080/"
        },
        "outputId": "b294af24-243a-4471-f133-b0754acbafb6"
      },
      "execution_count": null,
      "outputs": [
        {
          "output_type": "stream",
          "name": "stdout",
          "text": [
            "Classification Report:\n",
            "              precision    recall  f1-score   support\n",
            "\n",
            "           0       0.92      0.95      0.94     24201\n",
            "           1       0.89      0.96      0.92     28164\n",
            "           2       0.90      0.70      0.79      6929\n",
            "           3       0.92      0.89      0.90     11441\n",
            "           4       0.86      0.86      0.86      9594\n",
            "           5       0.90      0.63      0.74      3033\n",
            "\n",
            "    accuracy                           0.90     83362\n",
            "   macro avg       0.90      0.83      0.86     83362\n",
            "weighted avg       0.90      0.90      0.90     83362\n",
            "\n"
          ]
        }
      ]
    },
    {
      "cell_type": "markdown",
      "source": [
        "### **Tweaking Model 1 📈**\n",
        "The initial F1-score of **0.82** did not meet our expectations. We aimed to improve the model's performance to achieve better results across all classes.\n",
        "\n",
        "**Approach 👨‍🏫**\n",
        "1. **TF-IDF Vectorization:** Increased the number of features in TF-IDF vectors from 1000 to 5000 to capture more nuanced information from the text data.\n",
        "2. **Model Hyperparameters Tuning:**\n",
        "   - **Regularization Parameter (C):** Decreased from 1.0 to **0.1** to reduce overfitting and enhance model generalization.\n",
        "   - **Loss Function:** Changed from 'squared_hinge' to '**hinge**' for better performance.\n",
        "   - **Maximum Number of Iterations:** Increased from 1000 to **5000** to allow the model to converge to a better solution.\n",
        "   - **Penalty:** Maintained as **L2** for regularization.\n",
        "   - **Dual:** Kept as **True** for solving the optimization problem.\n",
        "\n",
        "**Impact on F1-score 💡**\n",
        "- After implementing these changes, the overall F1-score of the model increased to **0.86**. <br> This enhancement demonstrates the substantial impact of hyperparameters on the model's performance, underscoring the importance of fine-tuning model configurations to achieve optimal results.\n"
      ],
      "metadata": {
        "id": "BE74d4qlIxp7"
      }
    },
    {
      "cell_type": "markdown",
      "metadata": {
        "id": "sy2JA1f0OBAD"
      },
      "source": [
        "### **Trying out Model 1! 💻**"
      ]
    },
    {
      "cell_type": "code",
      "execution_count": null,
      "metadata": {
        "id": "7FwgPH4DOE5V",
        "colab": {
          "base_uri": "https://localhost:8080/"
        },
        "outputId": "a1a3fe62-c34b-45e1-b115-e9b10b9bd151"
      },
      "outputs": [
        {
          "output_type": "stream",
          "name": "stdout",
          "text": [
            "Predicted emotion for text 1: Sadness\n",
            "Predicted emotion for text 2: Joy\n",
            "Predicted emotion for text 3: Love\n",
            "Predicted emotion for text 4: Joy\n",
            "Predicted emotion for text 5: Fear\n",
            "Predicted emotion for text 6: Joy\n"
          ]
        }
      ],
      "source": [
        "# Mapping numbers to emotion names\n",
        "emotion_mapping = {\n",
        "    0: \"Sadness\",\n",
        "    1: \"Joy\",\n",
        "    2: \"Love\",\n",
        "    3: \"Anger\",\n",
        "    4: \"Fear\",\n",
        "    5: \"Surprise\"\n",
        "}\n",
        "\n",
        "# Input texts\n",
        "input_texts = [\n",
        "    \"good morning mental illness. totally depressed today\",\n",
        "    \"The 75,000,000 great American Patriots who voted for me, AMERICA FIRST, and MAKE AMERICA GREAT AGAIN, will have a GIANT VOICE long into the future. They will not be disrespected or treated unfairly in any way, shape or form!!!\",\n",
        "    \"Perhaps love was the accumulation of small things, little acts of consideration, the persistence of a man in loving even when he receives nothing in return\",\n",
        "    \"I WILL DESTROY EVERYTHING THAT COMES IN THE WAY\",\n",
        "    \"OMG, you scared the shit out of me!\",\n",
        "    \"WOW!!! THAT WAS UNPREDICTABLE!\"\n",
        "]\n",
        "\n",
        "def predict_emotion_for_text(text):\n",
        "    # Process the input text using the pre-trained vectorizer\n",
        "    text_vectorized = trained_vectorizer.transform([text])\n",
        "    # Predict emotion using the pre-trained model\n",
        "    predicted_emotion_label = trained_model.predict(text_vectorized)[0]\n",
        "    # Get the emotion name based on the predicted label\n",
        "    predicted_emotion = emotion_mapping[predicted_emotion_label]\n",
        "    return predicted_emotion\n",
        "\n",
        "# Predicted emotions for the input texts\n",
        "predicted_emotions = [predict_emotion_for_text(text) for text in input_texts]\n",
        "\n",
        "# Display predicted emotions for each input text\n",
        "for i, emotion in enumerate(predicted_emotions):\n",
        "    print(\"Predicted emotion for text {}: {}\".format(i + 1, emotion))\n"
      ]
    },
    {
      "cell_type": "markdown",
      "source": [
        "### **Analysing predictions of Model 1** 🤔\n",
        "\n",
        "1. \"*good morning mental illness. totally depressed today*\" was predicted to evoke \"Sadness\". This aligns with our expectations given the negative sentiment expressed in the text. ✔️\n",
        "\n",
        "2. \"*The 75,000,000 great American Patriots who voted for me, AMERICA FIRST, and MAKE AMERICA GREAT AGAIN, will have a GIANT VOICE long into the future. They will not be disrespected or treated unfairly in any way, shape or form!!!*\" resulted in the prediction of \"Joy\". This may stem from the positive and enthusiastic tone of the text. ✔️\n",
        "\n",
        "3. \"*Perhaps love was the accumulation of small things, little acts of consideration, the persistence of a man in loving even when he receives nothing in return*\" led to the prediction of \"Love,\" which seems appropriate given the romantic and affectionate nature of the text. ✔️\n",
        "\n",
        "4. \"*I WILL DESTROY EVERYTHING THAT COMES IN THE WAY*\" surprisingly resulted in the prediction of \"Joy\" 😅. This might indicate that the model misinterpreted the context or failed to capture the intended emotion accurately. ❌\n",
        "\n",
        "5. \"*OMG, you scared the shit out of me!*\" correctly predicted \"Fear,\" reflecting the alarming and distressing content of the text. ✔️\n",
        "\n",
        "6. \"*WOW!!! THAT WAS UNPREDICTABLE!*\" was also predicted to evoke \"Joy,\" perhaps due to the exclamation and excitement conveyed in the text. 🆗\n",
        "\n",
        "Overall, while our model demonstrated strong performance in predicting emotions such as \"Sadness,\" \"Joy,\" and \"Love,\" it showed relatively weaker performance for emotions like \"Fear\" and \"Surprise,\" as indicated by lower F1-scores in the classification report. This suggests areas for potential improvement in capturing a broader range of emotional nuances.\n"
      ],
      "metadata": {
        "id": "p-4glqQRtUoJ"
      }
    },
    {
      "cell_type": "markdown",
      "source": [
        "## **Model 2 - Logistic Regression ⚙️**"
      ],
      "metadata": {
        "id": "fh4cOx0xYi6t"
      }
    },
    {
      "cell_type": "markdown",
      "source": [
        "Model 2 utilizes logistic regression, a linear regression-based classification technique commonly employed in machine learning tasks. Logistic regression is particularly suitable for binary classification problems but can also be extended to multi-class classification scenarios, as in our case."
      ],
      "metadata": {
        "id": "AvsGPS9fKjfu"
      }
    },
    {
      "cell_type": "code",
      "source": [
        "from sklearn.linear_model import LogisticRegression"
      ],
      "metadata": {
        "id": "8id3jvi20Y_S"
      },
      "execution_count": null,
      "outputs": []
    },
    {
      "cell_type": "code",
      "source": [
        "def logistic_regression_classifier():\n",
        "    X_train, X_test, y_train, y_test = train_test_split(df['text'], df['label'], test_size=0.2, random_state=42)\n",
        "\n",
        "    vectorizer = TfidfVectorizer(max_features=1000)\n",
        "    X_train_vectorized = vectorizer.fit_transform(X_train)\n",
        "    X_test_vectorized = vectorizer.transform(X_test)\n",
        "\n",
        "    model_params = {\n",
        "        'C': 0.1,\n",
        "        'penalty': 'l2',\n",
        "        'max_iter': 5000,\n",
        "        'solver': 'saga',\n",
        "        'random_state': 1\n",
        "    }\n",
        "\n",
        "    model = LogisticRegression(**model_params)\n",
        "    model.fit(X_train_vectorized, y_train)\n",
        "\n",
        "    return model, vectorizer, X_test_vectorized, y_test\n",
        "\n",
        "trained_model, trained_vectorizer, X_test, y_test = logistic_regression_classifier()\n",
        "evaluate_model(trained_model, X_test, y_test)\n"
      ],
      "metadata": {
        "id": "tAZKdpSvYmzq",
        "colab": {
          "base_uri": "https://localhost:8080/"
        },
        "outputId": "beb25f96-0e6f-4f27-9c6a-2f705078190f"
      },
      "execution_count": null,
      "outputs": [
        {
          "output_type": "stream",
          "name": "stdout",
          "text": [
            "Classification Report:\n",
            "              precision    recall  f1-score   support\n",
            "\n",
            "           0       0.87      0.90      0.89     24201\n",
            "           1       0.82      0.93      0.87     28164\n",
            "           2       0.84      0.67      0.75      6929\n",
            "           3       0.90      0.77      0.83     11441\n",
            "           4       0.85      0.75      0.80      9594\n",
            "           5       0.82      0.63      0.71      3033\n",
            "\n",
            "    accuracy                           0.85     83362\n",
            "   macro avg       0.85      0.78      0.81     83362\n",
            "weighted avg       0.85      0.85      0.85     83362\n",
            "\n"
          ]
        }
      ]
    },
    {
      "cell_type": "markdown",
      "source": [
        "The F1-score for Model 2 with default configuration was 0.81, indicating its average performance in classifying emotions. This is not a satisfactory result for us, given that we previously achieved a score of 0.86. This suggests a potential need to further optimize the model to improve its ability to recognize different emotions."
      ],
      "metadata": {
        "id": "L7ypIQlRKuT5"
      }
    },
    {
      "cell_type": "code",
      "source": [
        "def logistic_regression_classifier():\n",
        "    X_train, X_test, y_train, y_test = train_test_split(df['text'], df['label'], test_size=0.2, random_state=42)\n",
        "\n",
        "    vectorizer = TfidfVectorizer(max_features=5000)\n",
        "    X_train_vectorized = vectorizer.fit_transform(X_train)\n",
        "    X_test_vectorized = vectorizer.transform(X_test)\n",
        "\n",
        "    model_params = {\n",
        "        'C': 0.1,\n",
        "        'penalty': 'l1',\n",
        "        'max_iter': 10000,\n",
        "        'solver': 'saga',\n",
        "        'random_state': 1\n",
        "    }\n",
        "\n",
        "    model = LogisticRegression(**model_params)\n",
        "    model.fit(X_train_vectorized, y_train)\n",
        "\n",
        "    return model, vectorizer, X_test_vectorized, y_test\n",
        "\n",
        "trained_model, trained_vectorizer, X_test, y_test = logistic_regression_classifier()\n",
        "evaluate_model(trained_model, X_test, y_test)\n"
      ],
      "metadata": {
        "id": "PfnZYR9i3mKc",
        "colab": {
          "base_uri": "https://localhost:8080/"
        },
        "outputId": "b0f7f3e4-5e8b-456e-c754-0a6b6da007a7"
      },
      "execution_count": null,
      "outputs": [
        {
          "output_type": "stream",
          "name": "stdout",
          "text": [
            "Classification Report:\n",
            "              precision    recall  f1-score   support\n",
            "\n",
            "           0       0.94      0.95      0.94     24201\n",
            "           1       0.91      0.94      0.93     28164\n",
            "           2       0.84      0.79      0.81      6929\n",
            "           3       0.91      0.91      0.91     11441\n",
            "           4       0.87      0.86      0.86      9594\n",
            "           5       0.84      0.72      0.77      3033\n",
            "\n",
            "    accuracy                           0.91     83362\n",
            "   macro avg       0.88      0.86      0.87     83362\n",
            "weighted avg       0.91      0.91      0.91     83362\n",
            "\n"
          ]
        }
      ]
    },
    {
      "cell_type": "markdown",
      "source": [
        "### **Tweaking Model 2 📈**\n",
        "In the updated version of Model 2, several key parameters were adjusted to potentially enhance its performance.\n",
        "\n",
        "**Approach 👨‍🚀**\n",
        "1. **TF-IDF Vectorization:** Increased the number of features in TF-IDF vectors from 1000 to **5000**.\n",
        "2. **Model Hyperparameters Tuning:**\n",
        "   - **Regularization Penalty:** Changed from L2 to **L1** to introduce sparsity and potentially improve feature selection by reducing the impact of less informative features.\n",
        "   - **Maximum Number of Iterations:** Increased from 5000 to **10000** to allow for a longer convergence time, which might result in a better optimization of the model's parameters.\n",
        "\n",
        "**Impact on F1-score 🚀**\n",
        "- The adjustments made to the model had a substantial impact on the F1-score, indicating a significant enhancement in performance. The initial F1-score, hovering around 0.81, received a remarkable boost, soaring to an impressive <font color=\"gold\">0.87</font>! 🥳 <br> This achievement marks a new record in F1-score measurement for our model, surpassing the previous best of 0.86 achieved by Model 1.\n"
      ],
      "metadata": {
        "id": "qE2WHrYkVgu0"
      }
    },
    {
      "cell_type": "markdown",
      "source": [
        "## Model 3 - Naive Bayes Classifier ⚙️"
      ],
      "metadata": {
        "id": "Y8qH4ZMsWe7u"
      }
    },
    {
      "cell_type": "markdown",
      "source": [
        "Last, but not least, Model 3 leverages the Naive Bayes classifier, an algorithm grounded in Bayes' theorem. Widely used in text analysis and classification, it excels in handling text-centric tasks. One of its key assumptions is feature independence, implying that the occurrence probabilities of distinct features are assessed autonomously. This characteristic is particularly advantageous in text analysis tasks, making Naive Bayes a preferred choice for such applications in data science."
      ],
      "metadata": {
        "id": "Y4g2UO9J0LIX"
      }
    },
    {
      "cell_type": "code",
      "source": [
        "from sklearn.naive_bayes import MultinomialNB"
      ],
      "metadata": {
        "id": "opQLgkWctxB_"
      },
      "execution_count": null,
      "outputs": []
    },
    {
      "cell_type": "code",
      "source": [
        "def naive_bayes_classifier():\n",
        "    X_train, X_test, y_train, y_test = train_test_split(df['text'], df['label'], test_size=0.2, random_state=42)\n",
        "\n",
        "    vectorizer = TfidfVectorizer(max_features=5000)\n",
        "    X_train_vectorized = vectorizer.fit_transform(X_train)\n",
        "    X_test_vectorized = vectorizer.transform(X_test)\n",
        "\n",
        "    model = MultinomialNB()\n",
        "    model.fit(X_train_vectorized, y_train)\n",
        "\n",
        "    return model, vectorizer, X_test_vectorized, y_test\n",
        "\n",
        "trained_model, trained_vectorizer, X_test, y_test = naive_bayes_classifier()\n",
        "evaluate_model(trained_model, X_test, y_test)\n"
      ],
      "metadata": {
        "colab": {
          "base_uri": "https://localhost:8080/"
        },
        "id": "_phV149qtrLO",
        "outputId": "d0bd04fa-e28c-45e3-e439-a9debbeae027"
      },
      "execution_count": null,
      "outputs": [
        {
          "output_type": "stream",
          "name": "stdout",
          "text": [
            "Classification Report:\n",
            "              precision    recall  f1-score   support\n",
            "\n",
            "           0       0.84      0.95      0.89     24201\n",
            "           1       0.77      0.97      0.86     28164\n",
            "           2       0.96      0.42      0.58      6929\n",
            "           3       0.94      0.76      0.84     11441\n",
            "           4       0.90      0.68      0.77      9594\n",
            "           5       0.97      0.24      0.38      3033\n",
            "\n",
            "    accuracy                           0.83     83362\n",
            "   macro avg       0.90      0.67      0.72     83362\n",
            "weighted avg       0.85      0.83      0.82     83362\n",
            "\n"
          ]
        }
      ]
    },
    {
      "cell_type": "code",
      "source": [
        "def naive_bayes_classifier():\n",
        "    X_train, X_test, y_train, y_test = train_test_split(df['text'], df['label'], test_size=0.2, random_state=42)\n",
        "\n",
        "    vectorizer = TfidfVectorizer(max_features=5000)\n",
        "    X_train_vectorized = vectorizer.fit_transform(X_train)\n",
        "    X_test_vectorized = vectorizer.transform(X_test)\n",
        "\n",
        "    model = MultinomialNB(force_alpha=False, alpha=0, fit_prior=False)\n",
        "    model.fit(X_train_vectorized, y_train)\n",
        "\n",
        "    return model, vectorizer, X_test_vectorized, y_test\n",
        "\n",
        "trained_model, trained_vectorizer, X_test, y_test = naive_bayes_classifier()\n",
        "evaluate_model(trained_model, X_test, y_test)\n"
      ],
      "metadata": {
        "colab": {
          "base_uri": "https://localhost:8080/"
        },
        "id": "Zw5D2Rt3x8MN",
        "outputId": "fbea20bb-748c-40c0-9c43-837aec075bd7"
      },
      "execution_count": null,
      "outputs": [
        {
          "output_type": "stream",
          "name": "stdout",
          "text": [
            "Classification Report:\n",
            "              precision    recall  f1-score   support\n",
            "\n",
            "           0       0.95      0.89      0.92     24201\n",
            "           1       0.95      0.85      0.90     28164\n",
            "           2       0.66      0.91      0.77      6929\n",
            "           3       0.87      0.90      0.89     11441\n",
            "           4       0.82      0.85      0.84      9594\n",
            "           5       0.59      0.87      0.71      3033\n",
            "\n",
            "    accuracy                           0.87     83362\n",
            "   macro avg       0.81      0.88      0.83     83362\n",
            "weighted avg       0.89      0.87      0.88     83362\n",
            "\n"
          ]
        },
        {
          "output_type": "stream",
          "name": "stderr",
          "text": [
            "/usr/local/lib/python3.10/dist-packages/sklearn/naive_bayes.py:635: UserWarning: alpha too small will result in numeric errors, setting alpha = 1.0e-10. Use `force_alpha=True` to keep alpha unchanged.\n",
            "  warnings.warn(\n"
          ]
        }
      ]
    },
    {
      "cell_type": "markdown",
      "source": [
        "### **Tweaking Model 3 📈**\n",
        "\n",
        "In the revised version of the Naive Bayes Classifier model, adjustments were made to its hyperparameters to potentially improve its performance.\n",
        "\n",
        "**Approach 👨‍✈️**\n",
        "1. **Model Hyperparameters Tuning:**\n",
        "   - **Force Alpha:** Disabled, setting `force_alpha` to False to prevent automatic smoothing.\n",
        "   - **Alpha Value:** Set to 0, indicating no Laplace smoothing, thus avoiding the overfitting that might occur with automatic smoothing.\n",
        "   - **Fit Prior:** Set to False to disable class prior probability fitting, potentially providing more flexibility in handling imbalanced class distributions.\n",
        "\n",
        "**Impact on F1-score 🛫**\n",
        "- The modifications to the Naive Bayes Classifier yielded notable improvements in the F1-score, indicating a significant enhancement in model performance across various classes.\n",
        "- **Before Adjustments:**\n",
        "  - **Macro Avg F1-score:** <font color=\"red\">0.72</font>\n",
        "- **After Adjustments:**\n",
        "  - **Macro Avg F1-score:** <font color=\"green\">0.83</font>"
      ],
      "metadata": {
        "id": "4Tt0xXkQ2J4M"
      }
    },
    {
      "cell_type": "markdown",
      "source": [
        "# Conclusion 📝"
      ],
      "metadata": {
        "id": "J5y0VbpZ_qs8"
      }
    },
    {
      "cell_type": "markdown",
      "source": [
        "## Model Performance 🏆\n",
        "The logistic regression model, after fine-tuning its hyperparameters and vectorization techniques, emerged as the top-performing model among the ones tested. It achieved an impressive F1-score of 0.87, outperforming both the support vector machine (SVM) and Naive Bayes classifiers.\n",
        "\n",
        "## Hyperparameter Tuning ⚖️\n",
        "Tweaking the hyperparameters of each model proved to be crucial in enhancing their performance. For instance, adjusting regularization parameters, selecting appropriate loss functions, and increasing the number of iterations significantly impacted the models' ability to classify emotions accurately.\n",
        "\n",
        "## Feature Engineering 💡\n",
        "Utilizing TF-IDF vectorization with an increased number of features (from 1000 to 5000) provided the models with richer representations of text data, leading to improved classification results.\n",
        "\n",
        "## Model Interpretability 🧠\n",
        "While logistic regression demonstrated superior performance, it also offers interpretability, making it easier to understand the factors driving its predictions. This interpretability can be valuable in real-world applications where transparency and explainability are paramount.\n",
        "\n",
        "## Areas for Further Improvement 📈\n",
        "Despite the success of the logistic regression model, there is still room for improvement, particularly in handling emotions with lower support in the dataset, such as \"Surprise\" and \"Fear.\" Future iterations of the model could focus on addressing these shortcomings through data augmentation techniques or more sophisticated modeling approaches."
      ],
      "metadata": {
        "id": "IBXdhvd7E7Sd"
      }
    },
    {
      "cell_type": "markdown",
      "source": [
        "## Confusion Matrix 📊\n",
        "\n",
        "Let's check the confusion matrix for our top-performing logistic regression model. It compares the actual labels (`y_test`) with the model's predictions (`y_pred`). Each cell shows the count of correctly and incorrectly classified instances for each class pair. Darker cells indicate higher accuracy, while brighter ones highlight areas of misclassification. This visual helps us understand the model's strengths and weaknesses."
      ],
      "metadata": {
        "id": "ia8UjcGIBZSj"
      }
    },
    {
      "cell_type": "code",
      "source": [
        "import matplotlib.pyplot as plt\n",
        "import seaborn as sns\n",
        "from sklearn.metrics import confusion_matrix, roc_curve, auc"
      ],
      "metadata": {
        "id": "uXnjkTFU9CAH"
      },
      "execution_count": null,
      "outputs": []
    },
    {
      "cell_type": "code",
      "source": [
        "trained_model, trained_vectorizer, X_test, y_test = logistic_regression_classifier()\n",
        "y_pred = trained_model.predict(X_test)\n",
        "conf_matrix = confusion_matrix(y_test, y_pred)\n",
        "emotions_labels = ['Sadness', 'Joy', 'Love', 'Anger', 'Fear', 'Surprise']\n",
        "plt.figure(figsize=(8, 6))\n",
        "sns.heatmap(conf_matrix, annot=True, fmt=\"d\", cmap=\"Blues\",\n",
        "            xticklabels=emotions_labels, yticklabels=emotions_labels)\n",
        "plt.title(\"Confusion Matrix - Logistic Regression\")\n",
        "plt.xlabel(\"Predicted Emotion\")\n",
        "plt.ylabel(\"True Emotion\")\n",
        "plt.show()\n",
        "y_pred_prob = trained_model.predict_proba(X_test)"
      ],
      "metadata": {
        "colab": {
          "base_uri": "https://localhost:8080/",
          "height": 564
        },
        "id": "GTNPWck784SF",
        "outputId": "5c4f365a-e6be-4d89-d0a0-c3a4c1902c9f"
      },
      "execution_count": null,
      "outputs": [
        {
          "output_type": "display_data",
          "data": {
            "text/plain": [
              "<Figure size 800x600 with 2 Axes>"
            ],
            "image/png": "[encoded data removed]"
          },
          "metadata": {}
        }
      ]
    },
    {
      "cell_type": "markdown",
      "source": [
        "Receiver Operating Characteristic (ROC) Curve 📉\n",
        "------------------------------------------------\n",
        "\n",
        "The area under the ROC curve (AUC) quantifies the model's ability to differentiate between positive and negative cases. A higher AUC indicates better classification performance.\n",
        "\n",
        "Analyzing the ROC curve helps us understand how effectively our model classifies cases at different decision thresholds. It also helps us assess whether the model tends to correctly detect positive cases or if it produces too many false alarms. In summary, the closer the curve is to the top-left corner, the better the model's performance."
      ],
      "metadata": {
        "id": "RHyEUluFIe_S"
      }
    },
    {
      "cell_type": "code",
      "source": [
        "## Compute ROC curve and ROC area for each class\n",
        "false_positive_rate = dict()\n",
        "true_positive_rate = dict()\n",
        "roc_area = dict()\n",
        "\n",
        "# Iterate over each class\n",
        "for class_index in range(len(trained_model.classes_)):\n",
        "    # Compute ROC curve for the current class\n",
        "    false_positive_rate[class_index], true_positive_rate[class_index], _ = roc_curve(\n",
        "        y_test == class_index, y_pred_prob[:, class_index])\n",
        "\n",
        "    # Compute area under ROC curve for the current class\n",
        "    roc_area[class_index] = auc(false_positive_rate[class_index], true_positive_rate[class_index])\n",
        "\n",
        "\n",
        "# Plot ROC curve\n",
        "plt.figure(figsize=(8, 6))\n",
        "for i in range(len(trained_model.classes_)):\n",
        "    plt.plot(fpr[i], tpr[i], label=f'ROC curve (area = {roc_auc[i]:0.2f}) for class {trained_model.classes_[i]}')\n",
        "plt.plot([0, 1], [0, 1], 'k--')\n",
        "plt.xlim([0.0, 1.0])\n",
        "plt.ylim([0.0, 1.05])\n",
        "plt.xlabel('False Positive Rate')\n",
        "plt.ylabel('True Positive Rate')\n",
        "plt.title('Receiver Operating Characteristic (ROC) - Logistic Regression')\n",
        "plt.legend(loc=\"lower right\")\n",
        "plt.show()"
      ],
      "metadata": {
        "colab": {
          "base_uri": "https://localhost:8080/",
          "height": 564
        },
        "id": "DE3ZDAXbICL5",
        "outputId": "3519a437-66e9-440a-afdc-b106cef1fb39"
      },
      "execution_count": null,
      "outputs": [
        {
          "output_type": "display_data",
          "data": {
            "text/plain": [
              "<Figure size 800x600 with 1 Axes>"
            ],
            "image/png": "[encoded data removed]"
          },
          "metadata": {}
        }
      ]
    },
    {
      "cell_type": "markdown",
      "source": [
        "For each of the 5 classes, we achieved an impressive AUC (Area Under the Curve) value of **0.99**. This indicates exceptional performance in distinguishing between positive and negative cases across all classes. Such high AUC values suggest that the model has excellent discriminatory power and effectively separates the different classes."
      ],
      "metadata": {
        "id": "W3ryP1ZpawyB"
      }
    }
  ],
  "metadata": {
    "colab": {
      "provenance": [],
      "include_colab_link": true
    },
    "kernelspec": {
      "display_name": "Python 3",
      "name": "python3"
    },
    "language_info": {
      "name": "python"
    }
  },
  "nbformat": 4,
  "nbformat_minor": 0
}
